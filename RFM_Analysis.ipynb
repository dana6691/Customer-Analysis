{
 "cells": [
  {
   "cell_type": "markdown",
   "metadata": {},
   "source": [
    "### Customer Segmentation using RFM Analysis\n",
    "\n",
    "The dataset which contains all the transactions occuring between 1/1/2019 and 1/1/2021 for Ralco. Our goal is to find the segment the customers based on RFM so that the company can target its customers efficiently. The segmentation performed using two different clustering methods; K-means and quantile. \n",
    "\n",
    "**RFM (Recency Frequency Monetary) analysis** is a customer segmentation technique that uses past purchase behavior to divide customers into groups. RFM helps divide customers into various categories or clusters to identify customers who are more likely to respond to promotions and also for future personalization services.\n",
    "\n",
    "- Recency – How recently did the customer purchase?\n",
    "- Frequency – How often do they purchase?\n",
    "- Monetary – How much do they spend?"
   ]
  },
  {
   "cell_type": "markdown",
   "metadata": {},
   "source": [
    "#### Data Import"
   ]
  },
  {
   "cell_type": "code",
   "execution_count": 5,
   "metadata": {},
   "outputs": [],
   "source": [
    "import pandas as pd\n",
    "output = pd.read_pickle(\"data/data_file.pkl\")"
   ]
  },
  {
   "cell_type": "markdown",
   "metadata": {},
   "source": [
    "#### Data Engineering"
   ]
  },
  {
   "cell_type": "code",
   "execution_count": 9,
   "metadata": {},
   "outputs": [
    {
     "name": "stdout",
     "output_type": "stream",
     "text": [
      "   CustomerID InvoiceDate  Item_No  Quantity  TotalSales\n",
      "0           2  2019-01-10        1      40.0     32550.4\n",
      "1           2  2019-01-21        1      40.0     32550.4\n",
      "2           2  2019-02-11        1      40.0     32550.4\n",
      "3           2  2019-02-12        1      40.0     32550.4\n",
      "4           2  2019-02-27        1      40.0      3062.0 \n",
      "-------------------------------------------------------------\n",
      "CustomerID     0\n",
      "InvoiceDate    0\n",
      "Item_No        0\n",
      "Quantity       0\n",
      "TotalSales     0\n",
      "dtype: int64\n"
     ]
    }
   ],
   "source": [
    "output['InvoiceDate']= pd.to_datetime(output['InvoiceDate'])\n",
    "df = output[output['InvoiceDate'] >= '2019-01-01']\n",
    "df = df.groupby(['CustomerID','InvoiceDate'], as_index=False).agg({'Name': 'count',  # Item #    \n",
    "                                                'Quantity': lambda x: x.sum(),          # Total Quantity\n",
    "                                                'TotalSales': lambda x: x.sum()})       # Monetary\n",
    "df.rename(columns={'Name': 'Item_No'}, inplace=True)\n",
    "print(df.head(), '\\n-------------------------------------------------------------')\n",
    "print(df.isnull().sum()) # No of missing value"
   ]
  },
  {
   "cell_type": "code",
   "execution_count": 11,
   "metadata": {},
   "outputs": [
    {
     "name": "stdout",
     "output_type": "stream",
     "text": [
      "   CustomerID  recency      monetary  quantity_total  frequency\n",
      "0           2      178  2.180923e+06        152360.0         87\n",
      "1           3      853  2.888000e+01             1.0          1\n",
      "2           4      196  4.179130e+04         55116.0         42\n",
      "3           5      185  7.704104e+04         12591.0         18\n",
      "4           7      217  5.102667e+03           543.0         48 \n",
      "-------------------------------------------------------------\n",
      "CustomerID        0\n",
      "recency           0\n",
      "monetary          0\n",
      "quantity_total    0\n",
      "frequency         0\n",
      "dtype: int64\n"
     ]
    }
   ],
   "source": [
    "import pandas as pd\n",
    "import datetime\n",
    "import matplotlib.pyplot as plt\n",
    "# Create the RFM Table\n",
    "output = pd.read_pickle(\"data/data_file.pkl\")\n",
    "output['InvoiceDate']= pd.to_datetime(output['InvoiceDate'])\n",
    "df = output[output['InvoiceDate'] > '2019-01-01']\n",
    "NOW = datetime.datetime(2022,4,28)\n",
    "rfmTable = df.groupby('CustomerID', as_index=False).agg({'InvoiceDate': lambda x: (NOW - x.max()).days, # Recency\n",
    "                                        'TotalSales': lambda x: x.sum(),                                # Monetary\n",
    "                                        'Quantity': lambda x: x.sum()})                                 # Total Items\n",
    "rfmTable.rename(columns={'InvoiceDate': 'recency', \n",
    "                         'Quantity': 'quantity_total',\n",
    "                         'TotalSales': 'monetary'}, inplace=True)\n",
    "rfmTable['frequency'] = df.groupby(['CustomerID'], as_index=False).agg({'InvoiceDate': lambda x: x.nunique()})['InvoiceDate'] # Frequency\n",
    "print(rfmTable.head(), '\\n-------------------------------------------------------------')\n",
    "print(rfmTable.isnull().sum()) # No of missing value\n",
    "rfmTable.to_pickle(\"data/rfm_file.pkl\")"
   ]
  },
  {
   "cell_type": "markdown",
   "metadata": {},
   "source": [
    "#### K-means Clustering"
   ]
  },
  {
   "cell_type": "code",
   "execution_count": 77,
   "metadata": {},
   "outputs": [],
   "source": [
    "from sklearn.preprocessing import StandardScaler\n",
    "rfmTable = pd.read_pickle(\"data/rfm_file.pkl\")\n",
    "rfm_segmentation = rfmTable.copy()\n",
    "rfm_segmentation.drop(rfm_segmentation.columns[-2], axis=1, inplace=True)\n",
    "# Rescaling the attributes\n",
    "scaler = StandardScaler()\n",
    "rfm_scaled = scaler.fit_transform(rfm_segmentation.iloc[:,1:4])\n",
    "rfm_scaled = pd.DataFrame(rfm_scaled)\n",
    "rfm_scaled.columns = ['recency', 'monetary', 'frequency']\n",
    "rfm_scaled = rfm_scaled.set_index(rfm_segmentation['CustomerID'])\n",
    "rfm_scaled.head()\n",
    "rfm_scaled.to_pickle(\"data/kmeans_file.pkl\")"
   ]
  },
  {
   "cell_type": "code",
   "execution_count": 75,
   "metadata": {},
   "outputs": [
    {
     "data": {
      "image/png": "[encoded data removed]",
      "text/plain": [
       "<Figure size 432x288 with 1 Axes>"
      ]
     },
     "metadata": {
      "needs_background": "light"
     },
     "output_type": "display_data"
    }
   ],
   "source": [
    "# Classify the customers into 20 groups using K-means clustering\n",
    "# Using Elbow method to find the proper number of the clusters for our customers\n",
    "from sklearn.cluster import KMeans\n",
    "import matplotlib.pyplot as plt\n",
    "ssd = []\n",
    "range_n_clusters = range(1, 20)\n",
    "for num_clusters in range_n_clusters:\n",
    "    kmeans = KMeans(n_clusters=num_clusters, max_iter=50)\n",
    "    kmeans.fit(rfm_scaled)\n",
    "    ssd.append(kmeans.inertia_)\n",
    "    \n",
    "# plot the SSDs for each n_clusters\n",
    "plt.plot(ssd)\n",
    "plt.axvline(x=5, color='red', linestyle='--')\n",
    "plt.xlabel('Number of Clusters')\n",
    "plt.ylabel('Score')\n",
    "plt.title('Elbow Curve')\n",
    "plt.show()"
   ]
  },
  {
   "cell_type": "code",
   "execution_count": 14,
   "metadata": {},
   "outputs": [
    {
     "name": "stdout",
     "output_type": "stream",
     "text": [
      "For n_clusters=2, the silhouette score is 0.9697525049767952\n",
      "For n_clusters=3, the silhouette score is 0.6047229649261561\n",
      "For n_clusters=4, the silhouette score is 0.6456502899201476\n",
      "For n_clusters=5, the silhouette score is 0.6565042442190897\n",
      "For n_clusters=6, the silhouette score is 0.5842233620465322\n",
      "For n_clusters=7, the silhouette score is 0.5869062203854505\n",
      "For n_clusters=8, the silhouette score is 0.5870820744127663\n",
      "For n_clusters=9, the silhouette score is 0.5868134173093347\n"
     ]
    }
   ],
   "source": [
    "# Silhouette analysis\n",
    "from sklearn.metrics import silhouette_score\n",
    "range_n_clusters = range(2, 10)\n",
    "for num_clusters in range_n_clusters:\n",
    "    # intialise kmeans\n",
    "    kmeans = KMeans(n_clusters=num_clusters, max_iter=50)\n",
    "    kmeans.fit(rfm_scaled)\n",
    "    \n",
    "    cluster_labels = kmeans.labels_\n",
    "    \n",
    "    # silhouette score\n",
    "    silhouette_avg = silhouette_score(rfm_scaled, cluster_labels)\n",
    "    print(\"For n_clusters={0}, the silhouette score is {1}\".format(num_clusters, silhouette_avg))"
   ]
  },
  {
   "cell_type": "code",
   "execution_count": 15,
   "metadata": {},
   "outputs": [
    {
     "data": {
      "text/html": [
       "<div>\n",
       "<style scoped>\n",
       "    .dataframe tbody tr th:only-of-type {\n",
       "        vertical-align: middle;\n",
       "    }\n",
       "\n",
       "    .dataframe tbody tr th {\n",
       "        vertical-align: top;\n",
       "    }\n",
       "\n",
       "    .dataframe thead th {\n",
       "        text-align: right;\n",
       "    }\n",
       "</style>\n",
       "<table border=\"1\" class=\"dataframe\">\n",
       "  <thead>\n",
       "    <tr style=\"text-align: right;\">\n",
       "      <th></th>\n",
       "      <th>recency</th>\n",
       "      <th>monetary</th>\n",
       "      <th>frequency</th>\n",
       "      <th>cluster</th>\n",
       "    </tr>\n",
       "    <tr>\n",
       "      <th>CustomerID</th>\n",
       "      <th></th>\n",
       "      <th></th>\n",
       "      <th></th>\n",
       "      <th></th>\n",
       "    </tr>\n",
       "  </thead>\n",
       "  <tbody>\n",
       "    <tr>\n",
       "      <th>5</th>\n",
       "      <td>-1.037598</td>\n",
       "      <td>0.076645</td>\n",
       "      <td>0.606374</td>\n",
       "      <td>0</td>\n",
       "    </tr>\n",
       "    <tr>\n",
       "      <th>10</th>\n",
       "      <td>-0.635249</td>\n",
       "      <td>-0.068927</td>\n",
       "      <td>-0.023579</td>\n",
       "      <td>0</td>\n",
       "    </tr>\n",
       "    <tr>\n",
       "      <th>15</th>\n",
       "      <td>-0.571384</td>\n",
       "      <td>-0.051895</td>\n",
       "      <td>0.081413</td>\n",
       "      <td>0</td>\n",
       "    </tr>\n",
       "    <tr>\n",
       "      <th>19</th>\n",
       "      <td>-0.242480</td>\n",
       "      <td>0.227873</td>\n",
       "      <td>0.553878</td>\n",
       "      <td>0</td>\n",
       "    </tr>\n",
       "    <tr>\n",
       "      <th>23</th>\n",
       "      <td>0.121550</td>\n",
       "      <td>-0.068248</td>\n",
       "      <td>-0.233563</td>\n",
       "      <td>0</td>\n",
       "    </tr>\n",
       "    <tr>\n",
       "      <th>25</th>\n",
       "      <td>-0.421301</td>\n",
       "      <td>0.032302</td>\n",
       "      <td>0.133909</td>\n",
       "      <td>0</td>\n",
       "    </tr>\n",
       "    <tr>\n",
       "      <th>26</th>\n",
       "      <td>-0.210547</td>\n",
       "      <td>-0.058084</td>\n",
       "      <td>-0.076075</td>\n",
       "      <td>0</td>\n",
       "    </tr>\n",
       "    <tr>\n",
       "      <th>28</th>\n",
       "      <td>-0.466007</td>\n",
       "      <td>-0.052493</td>\n",
       "      <td>-0.181067</td>\n",
       "      <td>0</td>\n",
       "    </tr>\n",
       "    <tr>\n",
       "      <th>29</th>\n",
       "      <td>-0.970539</td>\n",
       "      <td>-0.008753</td>\n",
       "      <td>0.291398</td>\n",
       "      <td>0</td>\n",
       "    </tr>\n",
       "    <tr>\n",
       "      <th>30</th>\n",
       "      <td>-0.303151</td>\n",
       "      <td>-0.042731</td>\n",
       "      <td>0.028917</td>\n",
       "      <td>0</td>\n",
       "    </tr>\n",
       "  </tbody>\n",
       "</table>\n",
       "</div>"
      ],
      "text/plain": [
       "             recency  monetary  frequency  cluster\n",
       "CustomerID                                        \n",
       "5          -1.037598  0.076645   0.606374        0\n",
       "10         -0.635249 -0.068927  -0.023579        0\n",
       "15         -0.571384 -0.051895   0.081413        0\n",
       "19         -0.242480  0.227873   0.553878        0\n",
       "23          0.121550 -0.068248  -0.233563        0\n",
       "25         -0.421301  0.032302   0.133909        0\n",
       "26         -0.210547 -0.058084  -0.076075        0\n",
       "28         -0.466007 -0.052493  -0.181067        0\n",
       "29         -0.970539 -0.008753   0.291398        0\n",
       "30         -0.303151 -0.042731   0.028917        0"
      ]
     },
     "execution_count": 15,
     "metadata": {},
     "output_type": "execute_result"
    }
   ],
   "source": [
    "# fitting model\n",
    "kmeans = KMeans(n_clusters=5, random_state=0).fit(rfm_scaled)\n",
    "# creates a new column called cluster which has cluster number for each row respectively.\n",
    "rfm_scaled['cluster'] = kmeans.labels_\n",
    "# check groups\n",
    "rfm_scaled[rfm_scaled.cluster == 0].head(10)"
   ]
  },
  {
   "cell_type": "code",
   "execution_count": 17,
   "metadata": {},
   "outputs": [
    {
     "data": {
      "image/png": "[encoded data removed]",
      "text/plain": [
       "<Figure size 1080x216 with 3 Axes>"
      ]
     },
     "metadata": {
      "needs_background": "light"
     },
     "output_type": "display_data"
    }
   ],
   "source": [
    "import seaborn as sns\n",
    "fig, axes = plt.subplots(1, 3, figsize=(15,3))\n",
    "sns.boxplot(x=rfm_scaled.cluster,y=rfm_scaled.recency, ax=axes[0]).set(title='Recency')\n",
    "sns.boxplot(x=rfm_scaled.cluster,y=rfm_scaled.frequency, ax=axes[1]).set(title='Frequency')\n",
    "sns.boxplot(x=rfm_scaled.cluster,y=rfm_scaled.monetary, ax=axes[2]).set(title='Monetary')\n",
    "plt.show()"
   ]
  },
  {
   "cell_type": "markdown",
   "metadata": {},
   "source": [
    "Based on the customer segmentation using K-means, we found out cluster 3 is the best groups with the lowest recency and highest frequency and monetary. Cluster 4 is the next best and Cluster 2. Cluster 0 is the lost customers who are stopped using our products. "
   ]
  },
  {
   "cell_type": "markdown",
   "metadata": {},
   "source": [
    "#### Quantile Clustering\n",
    "Using quantile to group the customers and finding the list of best, loyal and lost customers."
   ]
  },
  {
   "cell_type": "code",
   "execution_count": 60,
   "metadata": {},
   "outputs": [
    {
     "name": "stdout",
     "output_type": "stream",
     "text": [
      "     CustomerID  recency      monetary  quantity_total  frequency\n",
      "0.2      5322.6    240.0  1.544000e+01    1.000000e+00        1.0\n",
      "0.4      9710.4    321.0  9.178000e+01    3.000000e+00        1.0\n",
      "0.6     11814.6    458.6  4.543000e+02    2.000000e+01        2.0\n",
      "0.8     13339.8    841.0  4.371632e+03    4.588000e+02        6.0\n",
      "1.0     14703.0   1212.0  2.803280e+07    1.472749e+07      589.0\n"
     ]
    }
   ],
   "source": [
    "# Catogorizing R,F,M into 4 groups using quantiles\n",
    "rfmTable = pd.read_pickle(\"data/rfm_file.pkl\")\n",
    "quartiles = rfmTable.quantile(q=[0.2,0.4,0.6,0.8,1])\n",
    "print(quartiles)\n",
    "quartiles=quartiles.to_dict()"
   ]
  },
  {
   "cell_type": "code",
   "execution_count": 65,
   "metadata": {},
   "outputs": [
    {
     "name": "stdout",
     "output_type": "stream",
     "text": [
      "   CustomerID  recency      monetary  quantity_total  frequency  R_Quartile  \\\n",
      "0           2      178  2.180923e+06        152360.0         87           5   \n",
      "1           3      853  2.888000e+01             1.0          1           1   \n",
      "2           4      196  4.179130e+04         55116.0         42           5   \n",
      "3           5      185  7.704104e+04         12591.0         18           5   \n",
      "4           7      217  5.102667e+03           543.0         48           5   \n",
      "\n",
      "   F_Quartile  M_Quartile  Q_Quartile RFMScore  Total Score  \n",
      "0           5           5           5      555           15  \n",
      "1           1           2           1      112            4  \n",
      "2           5           5           5      555           15  \n",
      "3           5           5           5      555           15  \n",
      "4           5           5           5      555           15  \n"
     ]
    }
   ],
   "source": [
    "def RScore(x,p,d):\n",
    "    if x <= d[p][0.2]:\n",
    "        return 5\n",
    "    elif x <= d[p][0.4]:\n",
    "        return 4\n",
    "    elif x <= d[p][0.6]: \n",
    "        return 3\n",
    "    elif x <= d[p][0.8]: \n",
    "        return 2\n",
    "    else:\n",
    "        return 1\n",
    "def FMScore(x,p,d):\n",
    "    if x <= d[p][0.2]:\n",
    "        return 1\n",
    "    elif x <= d[p][0.4]:\n",
    "        return 2\n",
    "    elif x <= d[p][0.6]: \n",
    "        return 3\n",
    "    elif x <= d[p][0.8]: \n",
    "        return 4\n",
    "    else:\n",
    "        return 5\n",
    "rfmTable['R_Quartile'] = rfmTable['recency'].apply(RScore, args=('recency',quartiles,))\n",
    "rfmTable['F_Quartile'] = rfmTable['frequency'].apply(FMScore, args=('frequency',quartiles,))\n",
    "rfmTable['M_Quartile'] = rfmTable['monetary'].apply(FMScore, args=('monetary',quartiles,))\n",
    "rfmTable['Q_Quartile'] = rfmTable['quantity_total'].apply(FMScore, args=('quantity_total',quartiles,))\n",
    "rfmTable['RFMScore'] = rfmTable['R_Quartile'].astype(str) + rfmTable['F_Quartile'].astype(str) + rfmTable['M_Quartile'].astype(str) \n",
    "rfmTable['Total Score'] = rfmTable['R_Quartile'] + rfmTable['F_Quartile'] + rfmTable['M_Quartile']\n",
    "print(rfmTable.head())\n",
    "rfmTable.to_pickle(\"data/rfm_file2.pkl\")"
   ]
  },
  {
   "cell_type": "markdown",
   "metadata": {},
   "source": [
    "Segments\n",
    "- Best: bought recently, buy often and spend the most\n",
    "- Loyal: spend good money, responsive to promotions\n",
    "- New Customer: bought recently, but not often\n",
    "- Lost: lowest recency, highest frequency, and monetary scores\n",
    "- Lost LowVolume: lowest recency, frequency, and monetary score"
   ]
  },
  {
   "cell_type": "code",
   "execution_count": 73,
   "metadata": {},
   "outputs": [
    {
     "data": {
      "text/html": [
       "<div>\n",
       "<style scoped>\n",
       "    .dataframe tbody tr th:only-of-type {\n",
       "        vertical-align: middle;\n",
       "    }\n",
       "\n",
       "    .dataframe tbody tr th {\n",
       "        vertical-align: top;\n",
       "    }\n",
       "\n",
       "    .dataframe thead th {\n",
       "        text-align: right;\n",
       "    }\n",
       "</style>\n",
       "<table border=\"1\" class=\"dataframe\">\n",
       "  <thead>\n",
       "    <tr style=\"text-align: right;\">\n",
       "      <th></th>\n",
       "      <th>CustomerID</th>\n",
       "      <th>recency</th>\n",
       "      <th>monetary</th>\n",
       "      <th>quantity_total</th>\n",
       "      <th>frequency</th>\n",
       "      <th>R_Quartile</th>\n",
       "      <th>F_Quartile</th>\n",
       "      <th>M_Quartile</th>\n",
       "      <th>Q_Quartile</th>\n",
       "      <th>RFMScore</th>\n",
       "      <th>Total Score</th>\n",
       "      <th>Segment</th>\n",
       "    </tr>\n",
       "  </thead>\n",
       "  <tbody>\n",
       "    <tr>\n",
       "      <th>0</th>\n",
       "      <td>2</td>\n",
       "      <td>178</td>\n",
       "      <td>2.180923e+06</td>\n",
       "      <td>152360.0</td>\n",
       "      <td>87</td>\n",
       "      <td>5</td>\n",
       "      <td>5</td>\n",
       "      <td>5</td>\n",
       "      <td>5</td>\n",
       "      <td>555</td>\n",
       "      <td>15</td>\n",
       "      <td>Champions</td>\n",
       "    </tr>\n",
       "    <tr>\n",
       "      <th>1</th>\n",
       "      <td>3</td>\n",
       "      <td>853</td>\n",
       "      <td>2.888000e+01</td>\n",
       "      <td>1.0</td>\n",
       "      <td>1</td>\n",
       "      <td>1</td>\n",
       "      <td>1</td>\n",
       "      <td>2</td>\n",
       "      <td>1</td>\n",
       "      <td>112</td>\n",
       "      <td>4</td>\n",
       "      <td>Hibernating</td>\n",
       "    </tr>\n",
       "    <tr>\n",
       "      <th>2</th>\n",
       "      <td>4</td>\n",
       "      <td>196</td>\n",
       "      <td>4.179130e+04</td>\n",
       "      <td>55116.0</td>\n",
       "      <td>42</td>\n",
       "      <td>5</td>\n",
       "      <td>5</td>\n",
       "      <td>5</td>\n",
       "      <td>5</td>\n",
       "      <td>555</td>\n",
       "      <td>15</td>\n",
       "      <td>Champions</td>\n",
       "    </tr>\n",
       "    <tr>\n",
       "      <th>3</th>\n",
       "      <td>5</td>\n",
       "      <td>185</td>\n",
       "      <td>7.704104e+04</td>\n",
       "      <td>12591.0</td>\n",
       "      <td>18</td>\n",
       "      <td>5</td>\n",
       "      <td>5</td>\n",
       "      <td>5</td>\n",
       "      <td>5</td>\n",
       "      <td>555</td>\n",
       "      <td>15</td>\n",
       "      <td>Champions</td>\n",
       "    </tr>\n",
       "    <tr>\n",
       "      <th>4</th>\n",
       "      <td>7</td>\n",
       "      <td>217</td>\n",
       "      <td>5.102667e+03</td>\n",
       "      <td>543.0</td>\n",
       "      <td>48</td>\n",
       "      <td>5</td>\n",
       "      <td>5</td>\n",
       "      <td>5</td>\n",
       "      <td>5</td>\n",
       "      <td>555</td>\n",
       "      <td>15</td>\n",
       "      <td>Champions</td>\n",
       "    </tr>\n",
       "  </tbody>\n",
       "</table>\n",
       "</div>"
      ],
      "text/plain": [
       "   CustomerID  recency      monetary  quantity_total  frequency  R_Quartile  \\\n",
       "0           2      178  2.180923e+06        152360.0         87           5   \n",
       "1           3      853  2.888000e+01             1.0          1           1   \n",
       "2           4      196  4.179130e+04         55116.0         42           5   \n",
       "3           5      185  7.704104e+04         12591.0         18           5   \n",
       "4           7      217  5.102667e+03           543.0         48           5   \n",
       "\n",
       "   F_Quartile  M_Quartile  Q_Quartile RFMScore  Total Score      Segment  \n",
       "0           5           5           5      555           15    Champions  \n",
       "1           1           2           1      112            4  Hibernating  \n",
       "2           5           5           5      555           15    Champions  \n",
       "3           5           5           5      555           15    Champions  \n",
       "4           5           5           5      555           15    Champions  "
      ]
     },
     "execution_count": 73,
     "metadata": {},
     "output_type": "execute_result"
    }
   ],
   "source": [
    "# https://www.kaggle.com/code/ekrembayar/rfm-analysis-online-retail-ii\n",
    "seg_map = {\n",
    "    r'[1-2][1-2]': 'Hibernating',\n",
    "    r'[1-2][3-4]': 'At Risk',\n",
    "    r'[1-2]5': 'Can\\'t Loose',\n",
    "    r'3[1-2]': 'About to Sleep',\n",
    "    r'33': 'Need Attention',\n",
    "    r'[3-4][4-5]': 'Loyal Customers',\n",
    "    r'41': 'Promising',\n",
    "    r'51': 'New Customers',\n",
    "    r'[4-5][2-3]': 'Potential Loyalists',\n",
    "    r'5[4-5]': 'Champions'\n",
    "}\n",
    "\n",
    "rfmTable['Segment'] = rfmTable['R_Quartile'].astype(str) + rfmTable['F_Quartile'].astype(str)\n",
    "rfmTable['Segment'] = rfmTable['Segment'].replace(seg_map, regex=True)\n",
    "rfmTable.head()"
   ]
  },
  {
   "cell_type": "code",
   "execution_count": 74,
   "metadata": {},
   "outputs": [
    {
     "data": {
      "text/html": [
       "<div>\n",
       "<style scoped>\n",
       "    .dataframe tbody tr th:only-of-type {\n",
       "        vertical-align: middle;\n",
       "    }\n",
       "\n",
       "    .dataframe tbody tr th {\n",
       "        vertical-align: top;\n",
       "    }\n",
       "\n",
       "    .dataframe thead th {\n",
       "        text-align: right;\n",
       "    }\n",
       "</style>\n",
       "<table border=\"1\" class=\"dataframe\">\n",
       "  <thead>\n",
       "    <tr style=\"text-align: right;\">\n",
       "      <th></th>\n",
       "      <th>recency_mean</th>\n",
       "      <th>recency_median</th>\n",
       "      <th>recency_count</th>\n",
       "      <th>recency_std</th>\n",
       "      <th>frequency_mean</th>\n",
       "      <th>frequency_median</th>\n",
       "      <th>frequency_count</th>\n",
       "      <th>frequency_std</th>\n",
       "      <th>monetary_mean</th>\n",
       "      <th>monetary_median</th>\n",
       "      <th>monetary_count</th>\n",
       "      <th>monetary_std</th>\n",
       "    </tr>\n",
       "    <tr>\n",
       "      <th>Segment</th>\n",
       "      <th></th>\n",
       "      <th></th>\n",
       "      <th></th>\n",
       "      <th></th>\n",
       "      <th></th>\n",
       "      <th></th>\n",
       "      <th></th>\n",
       "      <th></th>\n",
       "      <th></th>\n",
       "      <th></th>\n",
       "      <th></th>\n",
       "      <th></th>\n",
       "    </tr>\n",
       "  </thead>\n",
       "  <tbody>\n",
       "    <tr>\n",
       "      <th>About to Sleep</th>\n",
       "      <td>377.740409</td>\n",
       "      <td>372.0</td>\n",
       "      <td>782</td>\n",
       "      <td>36.836565</td>\n",
       "      <td>1.000000</td>\n",
       "      <td>1.0</td>\n",
       "      <td>782</td>\n",
       "      <td>0.000000</td>\n",
       "      <td>445.624718</td>\n",
       "      <td>16.1800</td>\n",
       "      <td>782</td>\n",
       "      <td>2.228847e+03</td>\n",
       "    </tr>\n",
       "    <tr>\n",
       "      <th>At Risk</th>\n",
       "      <td>794.009514</td>\n",
       "      <td>785.0</td>\n",
       "      <td>946</td>\n",
       "      <td>214.331882</td>\n",
       "      <td>2.895349</td>\n",
       "      <td>2.0</td>\n",
       "      <td>946</td>\n",
       "      <td>1.155909</td>\n",
       "      <td>3272.755654</td>\n",
       "      <td>441.7150</td>\n",
       "      <td>946</td>\n",
       "      <td>1.593097e+04</td>\n",
       "    </tr>\n",
       "    <tr>\n",
       "      <th>Can't Loose</th>\n",
       "      <td>672.693642</td>\n",
       "      <td>611.0</td>\n",
       "      <td>173</td>\n",
       "      <td>172.244735</td>\n",
       "      <td>13.815029</td>\n",
       "      <td>11.0</td>\n",
       "      <td>173</td>\n",
       "      <td>10.574234</td>\n",
       "      <td>29514.779841</td>\n",
       "      <td>8132.3500</td>\n",
       "      <td>173</td>\n",
       "      <td>5.615873e+04</td>\n",
       "    </tr>\n",
       "    <tr>\n",
       "      <th>Champions</th>\n",
       "      <td>204.929885</td>\n",
       "      <td>210.0</td>\n",
       "      <td>870</td>\n",
       "      <td>22.041355</td>\n",
       "      <td>29.668966</td>\n",
       "      <td>15.0</td>\n",
       "      <td>870</td>\n",
       "      <td>44.277978</td>\n",
       "      <td>253779.110182</td>\n",
       "      <td>19654.7950</td>\n",
       "      <td>870</td>\n",
       "      <td>1.436943e+06</td>\n",
       "    </tr>\n",
       "    <tr>\n",
       "      <th>Hibernating</th>\n",
       "      <td>890.309585</td>\n",
       "      <td>921.5</td>\n",
       "      <td>1544</td>\n",
       "      <td>228.610849</td>\n",
       "      <td>1.000000</td>\n",
       "      <td>1.0</td>\n",
       "      <td>1544</td>\n",
       "      <td>0.000000</td>\n",
       "      <td>666.179563</td>\n",
       "      <td>72.7825</td>\n",
       "      <td>1544</td>\n",
       "      <td>2.730482e+03</td>\n",
       "    </tr>\n",
       "    <tr>\n",
       "      <th>Loyal Customers</th>\n",
       "      <td>325.772121</td>\n",
       "      <td>311.0</td>\n",
       "      <td>825</td>\n",
       "      <td>65.111305</td>\n",
       "      <td>9.372121</td>\n",
       "      <td>6.0</td>\n",
       "      <td>825</td>\n",
       "      <td>10.093781</td>\n",
       "      <td>15004.391504</td>\n",
       "      <td>1652.4300</td>\n",
       "      <td>825</td>\n",
       "      <td>4.292636e+04</td>\n",
       "    </tr>\n",
       "    <tr>\n",
       "      <th>Need Attention</th>\n",
       "      <td>385.632911</td>\n",
       "      <td>386.0</td>\n",
       "      <td>158</td>\n",
       "      <td>39.432011</td>\n",
       "      <td>2.000000</td>\n",
       "      <td>2.0</td>\n",
       "      <td>158</td>\n",
       "      <td>0.000000</td>\n",
       "      <td>1673.834541</td>\n",
       "      <td>261.2000</td>\n",
       "      <td>158</td>\n",
       "      <td>5.653665e+03</td>\n",
       "    </tr>\n",
       "    <tr>\n",
       "      <th>New Customers</th>\n",
       "      <td>212.888889</td>\n",
       "      <td>217.0</td>\n",
       "      <td>378</td>\n",
       "      <td>19.417877</td>\n",
       "      <td>1.000000</td>\n",
       "      <td>1.0</td>\n",
       "      <td>378</td>\n",
       "      <td>0.000000</td>\n",
       "      <td>1143.498069</td>\n",
       "      <td>11.4200</td>\n",
       "      <td>378</td>\n",
       "      <td>2.810274e+03</td>\n",
       "    </tr>\n",
       "    <tr>\n",
       "      <th>Potential Loyalists</th>\n",
       "      <td>248.980620</td>\n",
       "      <td>244.0</td>\n",
       "      <td>258</td>\n",
       "      <td>39.515593</td>\n",
       "      <td>2.000000</td>\n",
       "      <td>2.0</td>\n",
       "      <td>258</td>\n",
       "      <td>0.000000</td>\n",
       "      <td>2150.338362</td>\n",
       "      <td>224.3850</td>\n",
       "      <td>258</td>\n",
       "      <td>4.998537e+03</td>\n",
       "    </tr>\n",
       "    <tr>\n",
       "      <th>Promising</th>\n",
       "      <td>282.723375</td>\n",
       "      <td>283.0</td>\n",
       "      <td>723</td>\n",
       "      <td>21.889887</td>\n",
       "      <td>1.000000</td>\n",
       "      <td>1.0</td>\n",
       "      <td>723</td>\n",
       "      <td>0.000000</td>\n",
       "      <td>446.794571</td>\n",
       "      <td>11.4200</td>\n",
       "      <td>723</td>\n",
       "      <td>1.641543e+03</td>\n",
       "    </tr>\n",
       "  </tbody>\n",
       "</table>\n",
       "</div>"
      ],
      "text/plain": [
       "                     recency_mean  recency_median  recency_count  recency_std  \\\n",
       "Segment                                                                         \n",
       "About to Sleep         377.740409           372.0            782    36.836565   \n",
       "At Risk                794.009514           785.0            946   214.331882   \n",
       "Can't Loose            672.693642           611.0            173   172.244735   \n",
       "Champions              204.929885           210.0            870    22.041355   \n",
       "Hibernating            890.309585           921.5           1544   228.610849   \n",
       "Loyal Customers        325.772121           311.0            825    65.111305   \n",
       "Need Attention         385.632911           386.0            158    39.432011   \n",
       "New Customers          212.888889           217.0            378    19.417877   \n",
       "Potential Loyalists    248.980620           244.0            258    39.515593   \n",
       "Promising              282.723375           283.0            723    21.889887   \n",
       "\n",
       "                     frequency_mean  frequency_median  frequency_count  \\\n",
       "Segment                                                                  \n",
       "About to Sleep             1.000000               1.0              782   \n",
       "At Risk                    2.895349               2.0              946   \n",
       "Can't Loose               13.815029              11.0              173   \n",
       "Champions                 29.668966              15.0              870   \n",
       "Hibernating                1.000000               1.0             1544   \n",
       "Loyal Customers            9.372121               6.0              825   \n",
       "Need Attention             2.000000               2.0              158   \n",
       "New Customers              1.000000               1.0              378   \n",
       "Potential Loyalists        2.000000               2.0              258   \n",
       "Promising                  1.000000               1.0              723   \n",
       "\n",
       "                     frequency_std  monetary_mean  monetary_median  \\\n",
       "Segment                                                              \n",
       "About to Sleep            0.000000     445.624718          16.1800   \n",
       "At Risk                   1.155909    3272.755654         441.7150   \n",
       "Can't Loose              10.574234   29514.779841        8132.3500   \n",
       "Champions                44.277978  253779.110182       19654.7950   \n",
       "Hibernating               0.000000     666.179563          72.7825   \n",
       "Loyal Customers          10.093781   15004.391504        1652.4300   \n",
       "Need Attention            0.000000    1673.834541         261.2000   \n",
       "New Customers             0.000000    1143.498069          11.4200   \n",
       "Potential Loyalists       0.000000    2150.338362         224.3850   \n",
       "Promising                 0.000000     446.794571          11.4200   \n",
       "\n",
       "                     monetary_count  monetary_std  \n",
       "Segment                                            \n",
       "About to Sleep                  782  2.228847e+03  \n",
       "At Risk                         946  1.593097e+04  \n",
       "Can't Loose                     173  5.615873e+04  \n",
       "Champions                       870  1.436943e+06  \n",
       "Hibernating                    1544  2.730482e+03  \n",
       "Loyal Customers                 825  4.292636e+04  \n",
       "Need Attention                  158  5.653665e+03  \n",
       "New Customers                   378  2.810274e+03  \n",
       "Potential Loyalists             258  4.998537e+03  \n",
       "Promising                       723  1.641543e+03  "
      ]
     },
     "execution_count": 74,
     "metadata": {},
     "output_type": "execute_result"
    }
   ],
   "source": [
    "rfmStats = rfmTable[[\"Segment\",\"recency\",\"frequency\", \"monetary\"]].groupby(\"Segment\").agg([\"mean\",\"median\",\"count\", \"std\"])\n",
    "rfmStats.columns = rfmStats.columns.map('_'.join).str.strip('|')\n",
    "rfmStats"
   ]
  },
  {
   "cell_type": "code",
   "execution_count": 66,
   "metadata": {},
   "outputs": [
    {
     "name": "stdout",
     "output_type": "stream",
     "text": [
      "- Best Customers:  514\n",
      "- Loyal Customers:  1202\n",
      "- Big Spenders:  1332\n",
      "- New Customers:  214\n",
      "- Need Attention Customers:  0\n",
      "- Almost Lost:  86\n",
      "- Lost Customers:  21\n",
      "- Lost LowVolume Customers:  104\n"
     ]
    }
   ],
   "source": [
    "# https://www.blastanalytics.com/blog/rfm-analysis-boosts-sales\n",
    "print(\"- Best Customers: \",len(rfmTable[rfmTable['RFMScore']=='555']))\n",
    "print(\"- Loyal Customers: \",len(rfmTable[rfmTable['F_Quartile']==5]))\n",
    "print(\"- Big Spenders: \",len(rfmTable[rfmTable['M_Quartile']==5]))\n",
    "print(\"- New Customers: \",len(rfmTable[rfmTable['RFMScore']=='511']))\n",
    "print(\"- Need Attention Customers: \",len(rfmTable[(rfmTable['RFMScore']=='222') ]))\n",
    "print(\"- Almost Lost: \",len(rfmTable[rfmTable['RFMScore']=='255']))\n",
    "print(\"- Lost Customers: \",len(rfmTable[rfmTable['RFMScore']=='155']))\n",
    "print(\"- Lost LowVolume Customers: \",len(rfmTable[rfmTable['RFMScore']=='111']))"
   ]
  },
  {
   "cell_type": "code",
   "execution_count": 67,
   "metadata": {},
   "outputs": [
    {
     "data": {
      "image/png": "[encoded data removed]",
      "text/plain": [
       "<Figure size 1080x216 with 3 Axes>"
      ]
     },
     "metadata": {
      "needs_background": "light"
     },
     "output_type": "display_data"
    }
   ],
   "source": [
    "# Frequency Plots by Total Score\n",
    "fig, axes = plt.subplots(1, 3, figsize=(15,3))\n",
    "rfmTable.groupby('Total Score')['recency'].mean().plot(kind='bar', colormap='Blues_r', ax=axes[0]).set(title='Recency')\n",
    "rfmTable.groupby('Total Score')['frequency'].sum().plot(kind='bar', colormap='Blues_r', ax=axes[1]).set(title='Frequency')\n",
    "rfmTable.groupby('Total Score')['monetary'].mean().plot(kind='bar', colormap='Blues_r', ax=axes[2]).set(title='Monetary')\n",
    "plt.show()"
   ]
  },
  {
   "cell_type": "code",
   "execution_count": 70,
   "metadata": {},
   "outputs": [
    {
     "data": {
      "text/html": [
       "<div>\n",
       "<style scoped>\n",
       "    .dataframe tbody tr th:only-of-type {\n",
       "        vertical-align: middle;\n",
       "    }\n",
       "\n",
       "    .dataframe tbody tr th {\n",
       "        vertical-align: top;\n",
       "    }\n",
       "\n",
       "    .dataframe thead th {\n",
       "        text-align: right;\n",
       "    }\n",
       "</style>\n",
       "<table border=\"1\" class=\"dataframe\">\n",
       "  <thead>\n",
       "    <tr style=\"text-align: right;\">\n",
       "      <th></th>\n",
       "      <th>CustomerID</th>\n",
       "      <th>recency</th>\n",
       "      <th>monetary</th>\n",
       "      <th>quantity_total</th>\n",
       "      <th>frequency</th>\n",
       "      <th>R_Quartile</th>\n",
       "      <th>F_Quartile</th>\n",
       "      <th>M_Quartile</th>\n",
       "      <th>Q_Quartile</th>\n",
       "      <th>RFMScore</th>\n",
       "      <th>Total Score</th>\n",
       "    </tr>\n",
       "  </thead>\n",
       "  <tbody>\n",
       "    <tr>\n",
       "      <th>7</th>\n",
       "      <td>11</td>\n",
       "      <td>171</td>\n",
       "      <td>1.336441e+07</td>\n",
       "      <td>1.472749e+07</td>\n",
       "      <td>589</td>\n",
       "      <td>5</td>\n",
       "      <td>5</td>\n",
       "      <td>5</td>\n",
       "      <td>5</td>\n",
       "      <td>555</td>\n",
       "      <td>15</td>\n",
       "    </tr>\n",
       "    <tr>\n",
       "      <th>11</th>\n",
       "      <td>18</td>\n",
       "      <td>170</td>\n",
       "      <td>2.803280e+07</td>\n",
       "      <td>1.450067e+07</td>\n",
       "      <td>354</td>\n",
       "      <td>5</td>\n",
       "      <td>5</td>\n",
       "      <td>5</td>\n",
       "      <td>5</td>\n",
       "      <td>555</td>\n",
       "      <td>15</td>\n",
       "    </tr>\n",
       "    <tr>\n",
       "      <th>64</th>\n",
       "      <td>91</td>\n",
       "      <td>171</td>\n",
       "      <td>2.324087e+07</td>\n",
       "      <td>9.664518e+06</td>\n",
       "      <td>248</td>\n",
       "      <td>5</td>\n",
       "      <td>5</td>\n",
       "      <td>5</td>\n",
       "      <td>5</td>\n",
       "      <td>555</td>\n",
       "      <td>15</td>\n",
       "    </tr>\n",
       "    <tr>\n",
       "      <th>1294</th>\n",
       "      <td>5214</td>\n",
       "      <td>177</td>\n",
       "      <td>9.317760e+06</td>\n",
       "      <td>6.018946e+06</td>\n",
       "      <td>160</td>\n",
       "      <td>5</td>\n",
       "      <td>5</td>\n",
       "      <td>5</td>\n",
       "      <td>5</td>\n",
       "      <td>555</td>\n",
       "      <td>15</td>\n",
       "    </tr>\n",
       "    <tr>\n",
       "      <th>234</th>\n",
       "      <td>639</td>\n",
       "      <td>170</td>\n",
       "      <td>8.649094e+06</td>\n",
       "      <td>4.421592e+06</td>\n",
       "      <td>158</td>\n",
       "      <td>5</td>\n",
       "      <td>5</td>\n",
       "      <td>5</td>\n",
       "      <td>5</td>\n",
       "      <td>555</td>\n",
       "      <td>15</td>\n",
       "    </tr>\n",
       "    <tr>\n",
       "      <th>3452</th>\n",
       "      <td>10930</td>\n",
       "      <td>177</td>\n",
       "      <td>9.330971e+05</td>\n",
       "      <td>4.191332e+06</td>\n",
       "      <td>112</td>\n",
       "      <td>5</td>\n",
       "      <td>5</td>\n",
       "      <td>5</td>\n",
       "      <td>5</td>\n",
       "      <td>555</td>\n",
       "      <td>15</td>\n",
       "    </tr>\n",
       "    <tr>\n",
       "      <th>16</th>\n",
       "      <td>24</td>\n",
       "      <td>171</td>\n",
       "      <td>3.531332e+06</td>\n",
       "      <td>3.955986e+06</td>\n",
       "      <td>138</td>\n",
       "      <td>5</td>\n",
       "      <td>5</td>\n",
       "      <td>5</td>\n",
       "      <td>5</td>\n",
       "      <td>555</td>\n",
       "      <td>15</td>\n",
       "    </tr>\n",
       "    <tr>\n",
       "      <th>389</th>\n",
       "      <td>1093</td>\n",
       "      <td>184</td>\n",
       "      <td>2.738992e+06</td>\n",
       "      <td>2.216738e+06</td>\n",
       "      <td>102</td>\n",
       "      <td>5</td>\n",
       "      <td>5</td>\n",
       "      <td>5</td>\n",
       "      <td>5</td>\n",
       "      <td>555</td>\n",
       "      <td>15</td>\n",
       "    </tr>\n",
       "    <tr>\n",
       "      <th>266</th>\n",
       "      <td>740</td>\n",
       "      <td>171</td>\n",
       "      <td>3.322250e+06</td>\n",
       "      <td>2.133927e+06</td>\n",
       "      <td>168</td>\n",
       "      <td>5</td>\n",
       "      <td>5</td>\n",
       "      <td>5</td>\n",
       "      <td>5</td>\n",
       "      <td>555</td>\n",
       "      <td>15</td>\n",
       "    </tr>\n",
       "    <tr>\n",
       "      <th>71</th>\n",
       "      <td>107</td>\n",
       "      <td>182</td>\n",
       "      <td>1.379008e+06</td>\n",
       "      <td>2.014519e+06</td>\n",
       "      <td>310</td>\n",
       "      <td>5</td>\n",
       "      <td>5</td>\n",
       "      <td>5</td>\n",
       "      <td>5</td>\n",
       "      <td>555</td>\n",
       "      <td>15</td>\n",
       "    </tr>\n",
       "  </tbody>\n",
       "</table>\n",
       "</div>"
      ],
      "text/plain": [
       "      CustomerID  recency      monetary  quantity_total  frequency  \\\n",
       "7             11      171  1.336441e+07    1.472749e+07        589   \n",
       "11            18      170  2.803280e+07    1.450067e+07        354   \n",
       "64            91      171  2.324087e+07    9.664518e+06        248   \n",
       "1294        5214      177  9.317760e+06    6.018946e+06        160   \n",
       "234          639      170  8.649094e+06    4.421592e+06        158   \n",
       "3452       10930      177  9.330971e+05    4.191332e+06        112   \n",
       "16            24      171  3.531332e+06    3.955986e+06        138   \n",
       "389         1093      184  2.738992e+06    2.216738e+06        102   \n",
       "266          740      171  3.322250e+06    2.133927e+06        168   \n",
       "71           107      182  1.379008e+06    2.014519e+06        310   \n",
       "\n",
       "      R_Quartile  F_Quartile  M_Quartile  Q_Quartile RFMScore  Total Score  \n",
       "7              5           5           5           5      555           15  \n",
       "11             5           5           5           5      555           15  \n",
       "64             5           5           5           5      555           15  \n",
       "1294           5           5           5           5      555           15  \n",
       "234            5           5           5           5      555           15  \n",
       "3452           5           5           5           5      555           15  \n",
       "16             5           5           5           5      555           15  \n",
       "389            5           5           5           5      555           15  \n",
       "266            5           5           5           5      555           15  \n",
       "71             5           5           5           5      555           15  "
      ]
     },
     "execution_count": 70,
     "metadata": {},
     "output_type": "execute_result"
    }
   ],
   "source": [
    "# Best 10 customers\n",
    "rfmTable[rfmTable['RFMScore']=='555'].sort_values(['Total Score','quantity_total'],ascending=False).head(10)"
   ]
  },
  {
   "cell_type": "code",
   "execution_count": 27,
   "metadata": {},
   "outputs": [
    {
     "data": {
      "text/plain": [
       "array([[<AxesSubplot:title={'center':'1'}>,\n",
       "        <AxesSubplot:title={'center':'2'}>],\n",
       "       [<AxesSubplot:title={'center':'3'}>,\n",
       "        <AxesSubplot:title={'center':'5'}>]], dtype=object)"
      ]
     },
     "execution_count": 27,
     "metadata": {},
     "output_type": "execute_result"
    },
    {
     "data": {
      "image/png": "[encoded data removed]",
      "text/plain": [
       "<Figure size 432x288 with 4 Axes>"
      ]
     },
     "metadata": {
      "needs_background": "light"
     },
     "output_type": "display_data"
    }
   ],
   "source": [
    "#rfmTable.groupby('F_Quartile')['frequency'].sum()\n",
    "rfmTable['frequency'].hist(by=rfmTable['F_Quartile'])"
   ]
  },
  {
   "cell_type": "markdown",
   "metadata": {},
   "source": [
    "### Hierarchical Clustering"
   ]
  },
  {
   "cell_type": "code",
   "execution_count": 78,
   "metadata": {},
   "outputs": [
    {
     "data": {
      "image/png": "[encoded data removed]",
      "text/plain": [
       "<Figure size 432x288 with 1 Axes>"
      ]
     },
     "metadata": {
      "needs_background": "light"
     },
     "output_type": "display_data"
    }
   ],
   "source": [
    "# https://www.kaggle.com/code/hellbuoy/online-retail-k-means-hierarchical-clustering\n",
    "from scipy.cluster.hierarchy import linkage\n",
    "from scipy.cluster.hierarchy import dendrogram\n",
    "from scipy.cluster.hierarchy import cut_tree\n",
    "\n",
    "# Single linkage: \n",
    "rfm_scaled =pd.read_pickle(\"data/kmeans_file.pkl\")\n",
    "mergings = linkage(rfm_scaled, method=\"single\", metric='euclidean')\n",
    "dendrogram(mergings)\n",
    "plt.show()"
   ]
  },
  {
   "cell_type": "code",
   "execution_count": 79,
   "metadata": {},
   "outputs": [
    {
     "data": {
      "image/png": "[encoded data removed]",
      "text/plain": [
       "<Figure size 432x288 with 1 Axes>"
      ]
     },
     "metadata": {
      "needs_background": "light"
     },
     "output_type": "display_data"
    }
   ],
   "source": [
    "# Complete linkage\n",
    "mergings = linkage(rfm_scaled, method=\"complete\", metric='euclidean')\n",
    "dendrogram(mergings)\n",
    "plt.show()"
   ]
  },
  {
   "cell_type": "code",
   "execution_count": 80,
   "metadata": {},
   "outputs": [
    {
     "data": {
      "image/png": "[encoded data removed]",
      "text/plain": [
       "<Figure size 432x288 with 1 Axes>"
      ]
     },
     "metadata": {
      "needs_background": "light"
     },
     "output_type": "display_data"
    }
   ],
   "source": [
    "# Average linkage\n",
    "mergings = linkage(rfm_scaled, method=\"average\", metric='euclidean')\n",
    "dendrogram(mergings)\n",
    "plt.show()"
   ]
  },
  {
   "cell_type": "code",
   "execution_count": 82,
   "metadata": {},
   "outputs": [
    {
     "data": {
      "text/plain": [
       "<AxesSubplot:xlabel='Cluster_Labels', ylabel='recency'>"
      ]
     },
     "execution_count": 82,
     "metadata": {},
     "output_type": "execute_result"
    },
    {
     "data": {
      "image/png": "[encoded data removed]",
      "text/plain": [
       "<Figure size 1080x216 with 3 Axes>"
      ]
     },
     "metadata": {
      "needs_background": "light"
     },
     "output_type": "display_data"
    }
   ],
   "source": [
    "# Plot Cluster Id vs Amount\n",
    "# 5 clusters\n",
    "cluster_labels = cut_tree(mergings, n_clusters=5).reshape(-1, )\n",
    "cluster_labels\n",
    "rfmTable = pd.read_pickle(\"data/rfm_file.pkl\") \n",
    "rfmTable['Cluster_Labels'] = cluster_labels\n",
    "rfmTable.head()\n",
    "fig, axes = plt.subplots(1, 3, figsize=(15,3))\n",
    "sns.boxplot(x='Cluster_Labels', y='monetary', data=rfmTable,ax=axes[0])\n",
    "sns.boxplot(x='Cluster_Labels', y='frequency', data=rfmTable,ax=axes[1])\n",
    "sns.boxplot(x='Cluster_Labels', y='recency', data=rfmTable,ax=axes[2])"
   ]
  }
 ],
 "metadata": {
  "interpreter": {
   "hash": "3c33b2fc189157b94a46adb19932fcae396ccf7e0065b0ae93686dcbadd4449e"
  },
  "kernelspec": {
   "display_name": "Python 3.8.0 32-bit",
   "language": "python",
   "name": "python3"
  },
  "language_info": {
   "codemirror_mode": {
    "name": "ipython",
    "version": 3
   },
   "file_extension": ".py",
   "mimetype": "text/x-python",
   "name": "python",
   "nbconvert_exporter": "python",
   "pygments_lexer": "ipython3",
   "version": "3.7.2"
  },
  "orig_nbformat": 4
 },
 "nbformat": 4,
 "nbformat_minor": 2
}
